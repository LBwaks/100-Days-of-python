{
 "cells": [
  {
   "cell_type": "markdown",
   "id": "4d853ee0-a463-45b8-af76-d9fa32d2dcff",
   "metadata": {},
   "source": [
    "A dvd bouncing program "
   ]
  },
  {
   "cell_type": "code",
   "execution_count": 114,
   "id": "30deff04-25b1-45b3-95ed-f1441683877d",
   "metadata": {},
   "outputs": [],
   "source": [
    "import sys , random,time"
   ]
  },
  {
   "cell_type": "code",
   "execution_count": 116,
   "id": "a8c6caf6-3824-423d-b902-922625dca9d5",
   "metadata": {},
   "outputs": [],
   "source": [
    "try :\n",
    "    import bext\n",
    "except ImportError:\n",
    "    print('This program requires bext module')\n",
    "    print('Install bext module first')\n",
    "    sys.exit()"
   ]
  },
  {
   "cell_type": "code",
   "execution_count": 117,
   "id": "9b468d59-09b6-4e20-9ec2-ae3f5c83b11c",
   "metadata": {},
   "outputs": [],
   "source": [
    "# setting up constants\n",
    "WIDTH , HEIGHT =bext.size()\n",
    "WIDTH -=1\n",
    "NUMBER_OF_LOGOS = 10\n",
    "PAUSE_AMOUNT =0.2\n",
    "COLORS =['red','purple','cyan','magenta','black','green']\n",
    "UP_RIGHT = 'ur'\n",
    "UP_LEFT ='ul'\n",
    "DOWN_RIGHT ='dr'\n",
    "DOWN_LEFT ='dl'\n",
    "DIRECTIONS =(UP_RIGHT,UP_LEFT,DOWN_RIGHT,DOWN_LEFT)\n",
    "COLOR ='color'\n",
    "X='x'\n",
    "Y='y'\n",
    "DIR ='directions'"
   ]
  },
  {
   "cell_type": "code",
   "execution_count": 119,
   "id": "86962009-beae-47f3-b133-adfa2ccdb288",
   "metadata": {},
   "outputs": [],
   "source": [
    "def main():\n",
    "    bext.clear()\n",
    "    # generate some logos\n",
    "    logos =[]\n",
    "    for i in range(NUMBER_OF_LOGOS):\n",
    "        logos.append({COLOR:random.choice(COLORS),X:random.randint(1,WIDTH-4),Y:random.randint(1,HEIGHT-4),DIR:random.choice(DIRECTIONS)})\n",
    "        if logos[-1][X] % 2 == 1:\n",
    "             # Make sure X is even so it can hit the corner.\n",
    "            logos[-1][X] -= 1\n",
    "    cornerBounces = 0 #count number of bounces \n",
    "    while True :\n",
    "        for logo in logos:\n",
    "            bext.goto(logo[X],logo[Y])\n",
    "            print('  ',end=\"\")\n",
    "        originalDir = logo[DIR]\n",
    "        # See if the logo bounces off the corners:\n",
    "        if logo[X] == 0 and logo[Y] ==0 :\n",
    "            logo[DIR] == DOWN_RIGHT\n",
    "            cornerBounces +=1\n",
    "        if logo[X] ==0 and logo[Y] == HEIGHT -1:\n",
    "            logo[DIR] == UP_RIGHT\n",
    "            cornerBounces +=1\n",
    "        if logo[X] == WIDTH-3 and logo[Y] == 0:\n",
    "            logo[DIR] == DOWN_LEFT\n",
    "            cornerBounces += 1\n",
    "        if logo[X] == WIDTH -3 and logo[Y]== HEIGHT-1:\n",
    "            logo[DIR] ==UP_LEFT\n",
    "            cornerBounces +=1\n",
    "            \n",
    "            # See if the logo bounces off the left edge:\n",
    "        elif logo[X] == 0 and logo[DIR] == UP_LEFT:\n",
    "            logo[DIR]= UP_RIGHT\n",
    "        elif logo[X] == 0 and logo[DIR] == DOWN_LEFT:\n",
    "            logo[DIR] = DOWN_RIGHT\n",
    "        # See if the logo bounces off the right edge:\n",
    "        # (WIDTH - 3 because 'DVD' has 3 letters.)\n",
    "        elif logo[X] == WIDTH - 3 and logo[DIR] == UP_RIGHT:\n",
    "            logo[DIR] = UP_LEFT\n",
    "        elif logo[X] == WIDTH - 3 and logo[DIR] == DOWN_RIGHT:\n",
    "             logo[DIR] = DOWN_LEFT\n",
    "  \n",
    "         # See if the logo bounces off the top edge:\n",
    "        elif logo[Y] == 0 and logo[DIR] == UP_LEFT:\n",
    "              logo[DIR] = DOWN_LEFT\n",
    "        elif logo[Y] == 0 and logo[DIR] == UP_RIGHT:\n",
    "             logo[DIR] = DOWN_RIGHT\n",
    "  \n",
    "          # See if the logo bounces off the bottom edge:\n",
    "        elif logo[Y] == HEIGHT - 1 and logo[DIR] == DOWN_LEFT:\n",
    "             logo[DIR] = UP_LEFT\n",
    "        elif logo[Y] == HEIGHT - 1 and logo[DIR] == DOWN_RIGHT:\n",
    "               logo[DIR] = UP_RIGHT\n",
    "        if logo[DIR] != originalDir:\n",
    "            # change logo colors \n",
    "            logo[COLOR] = random.choices(COLORS)\n",
    "         \n",
    "        #Move the logo. (X moves by 2 because the terminal\n",
    "          # characters are twice as tall as they are wide.)\n",
    "        if logo[DIR] == UP_RIGHT:\n",
    "            logo[X] += 2\n",
    "            logo[Y] -=1\n",
    "        elif logo[DIR] ==  UP_LEFT:\n",
    "            logo[X] -=2\n",
    "            logo[Y] -=1\n",
    "        elif logo[DIR] ==DOWN_RIGHT:\n",
    "            logo[X]+=2\n",
    "            logo[Y]+=1\n",
    "        elif logo[DIR] == DOWN_LEFT:\n",
    "            logo[X] -= 2\n",
    "            logo[Y] +=1\n",
    "        # Display number of corner bounces:\n",
    "        bext.goto(5,0)\n",
    "        bext.fg('white')\n",
    "        print('Corner bounce:',cornerBounces, end=' ')\n",
    "        for logo in logos:\n",
    "            # draw logos at their location\n",
    "            bext.goto(logo[X],logo[Y])\n",
    "            bext.fg(logo[COLOR])\n",
    "            print('DVD',end=\" \")\n",
    "        bext.goto(0,0)\n",
    "        sys.stdout.flush()\n",
    "        time.sleep(PAUSE_AMOUNT)\n",
    "        \n",
    "            "
   ]
  },
  {
   "cell_type": "code",
   "execution_count": 122,
   "id": "8ccee384-99b4-4561-b395-1920b7844129",
   "metadata": {},
   "outputs": [
    {
     "name": "stdout",
     "output_type": "stream",
     "text": [
      "                    Corner bounce: 0 DVD DVD DVD DVD DVD DVD DVD DVD DVD DVD                     Corner bounce: 0 DVD DVD DVD DVD DVD DVD DVD DVD DVD DVD                     Corner bounce: 0 DVD DVD DVD DVD DVD DVD DVD DVD DVD DVD                     Corner bounce: 0 DVD DVD DVD DVD DVD DVD DVD DVD DVD DVD                     Corner bounce: 0 DVD DVD DVD DVD DVD DVD DVD DVD DVD DVD                     Corner bounce: 0 DVD DVD DVD DVD DVD DVD DVD DVD DVD DVD                     Corner bounce: 0 DVD DVD DVD DVD DVD DVD DVD DVD DVD DVD                     Corner bounce: 0 DVD DVD DVD DVD DVD DVD DVD DVD DVD DVD                     Corner bounce: 0 DVD DVD DVD DVD DVD DVD DVD DVD DVD DVD                     Corner bounce: 0 DVD DVD DVD DVD DVD DVD DVD DVD DVD DVD                     Corner bounce: 0 DVD DVD DVD DVD DVD DVD DVD DVD DVD DVD                     Corner bounce: 0 DVD DVD DVD DVD DVD DVD DVD DVD DVD DVD                     Corner bounce: 0 DVD DVD DVD DVD DVD DVD DVD DVD DVD DVD                     Corner bounce: 0 DVD DVD DVD DVD DVD DVD DVD DVD DVD DVD                     Corner bounce: 0 DVD DVD DVD DVD DVD DVD DVD DVD DVD DVD                     Corner bounce: 0 DVD DVD DVD DVD DVD DVD DVD DVD DVD DVD                     Corner bounce: 0 DVD DVD DVD DVD DVD DVD DVD DVD DVD DVD                     Corner bounce: 0 DVD DVD DVD DVD DVD DVD DVD DVD DVD DVD                     Corner bounce: 0 DVD DVD DVD DVD DVD DVD DVD DVD DVD "
     ]
    },
    {
     "ename": "AttributeError",
     "evalue": "'list' object has no attribute 'lower'",
     "output_type": "error",
     "traceback": [
      "\u001b[0;31m---------------------------------------------------------------------------\u001b[0m",
      "\u001b[0;31mAttributeError\u001b[0m                            Traceback (most recent call last)",
      "Cell \u001b[0;32mIn[122], line 3\u001b[0m\n\u001b[1;32m      1\u001b[0m \u001b[38;5;28;01mif\u001b[39;00m \u001b[38;5;18m__name__\u001b[39m\u001b[38;5;241m==\u001b[39m\u001b[38;5;124m'\u001b[39m\u001b[38;5;124m__main__\u001b[39m\u001b[38;5;124m'\u001b[39m:\n\u001b[1;32m      2\u001b[0m     \u001b[38;5;28;01mtry\u001b[39;00m:\n\u001b[0;32m----> 3\u001b[0m         main()\n\u001b[1;32m      4\u001b[0m     \u001b[38;5;28;01mexcept\u001b[39;00m \u001b[38;5;167;01mKeyboardInterrupt\u001b[39;00m:\n\u001b[1;32m      5\u001b[0m         \u001b[38;5;28mprint\u001b[39m()\n",
      "Cell \u001b[0;32mIn[119], line 78\u001b[0m, in \u001b[0;36mmain\u001b[0;34m()\u001b[0m\n\u001b[1;32m     75\u001b[0m \u001b[38;5;28;01mfor\u001b[39;00m logo \u001b[38;5;129;01min\u001b[39;00m logos:\n\u001b[1;32m     76\u001b[0m     \u001b[38;5;66;03m# draw logos at their location\u001b[39;00m\n\u001b[1;32m     77\u001b[0m     bext\u001b[38;5;241m.\u001b[39mgoto(logo[X],logo[Y])\n\u001b[0;32m---> 78\u001b[0m     bext\u001b[38;5;241m.\u001b[39mfg(logo[COLOR])\n\u001b[1;32m     79\u001b[0m     \u001b[38;5;28mprint\u001b[39m(\u001b[38;5;124m'\u001b[39m\u001b[38;5;124mDVD\u001b[39m\u001b[38;5;124m'\u001b[39m,end\u001b[38;5;241m=\u001b[39m\u001b[38;5;124m\"\u001b[39m\u001b[38;5;124m \u001b[39m\u001b[38;5;124m\"\u001b[39m)\n\u001b[1;32m     80\u001b[0m bext\u001b[38;5;241m.\u001b[39mgoto(\u001b[38;5;241m0\u001b[39m,\u001b[38;5;241m0\u001b[39m)\n",
      "File \u001b[0;32m~/.local/lib/python3.11/site-packages/bext/__init__.py:459\u001b[0m, in \u001b[0;36mfg\u001b[0;34m(color)\u001b[0m\n\u001b[1;32m    455\u001b[0m \u001b[38;5;28;01mdef\u001b[39;00m \u001b[38;5;21mfg\u001b[39m(color):\n\u001b[1;32m    456\u001b[0m \u001b[38;5;250m    \u001b[39m\u001b[38;5;124;03m\"\"\"Sets the foreground color. The `color` parameter can be one of the\u001b[39;00m\n\u001b[1;32m    457\u001b[0m \u001b[38;5;124;03m    following strings: 'black', 'red', 'green', 'yellow', 'blue', 'purple',\u001b[39;00m\n\u001b[1;32m    458\u001b[0m \u001b[38;5;124;03m    'cyan', 'white', 'reset'.\"\"\"\u001b[39;00m\n\u001b[0;32m--> 459\u001b[0m     color \u001b[38;5;241m=\u001b[39m color\u001b[38;5;241m.\u001b[39mlower()\n\u001b[1;32m    460\u001b[0m     \u001b[38;5;28;01mif\u001b[39;00m color \u001b[38;5;241m==\u001b[39m \u001b[38;5;124m'\u001b[39m\u001b[38;5;124mrandom\u001b[39m\u001b[38;5;124m'\u001b[39m:\n\u001b[1;32m    461\u001b[0m         color \u001b[38;5;241m=\u001b[39m random\u001b[38;5;241m.\u001b[39mchoice(ALL_COLORS)\n",
      "\u001b[0;31mAttributeError\u001b[0m: 'list' object has no attribute 'lower'"
     ]
    }
   ],
   "source": [
    "if __name__=='__main__':\n",
    "    try:\n",
    "        main()\n",
    "    except KeyboardInterrupt:\n",
    "        print()\n",
    "        print('Bouncing DVD Logo, by Al Sweigart')\n",
    "        sys.exit()"
   ]
  },
  {
   "cell_type": "code",
   "execution_count": null,
   "id": "0baa75e7-a1e0-4889-a668-771c704e07c0",
   "metadata": {},
   "outputs": [],
   "source": []
  },
  {
   "cell_type": "code",
   "execution_count": null,
   "id": "2aa57016-c3d6-49e8-84df-5a6364fe1283",
   "metadata": {},
   "outputs": [],
   "source": []
  }
 ],
 "metadata": {
  "kernelspec": {
   "display_name": "anaconda-panel-2023.05-py310",
   "language": "python",
   "name": "conda-env-anaconda-panel-2023.05-py310-py"
  },
  "language_info": {
   "codemirror_mode": {
    "name": "ipython",
    "version": 3
   },
   "file_extension": ".py",
   "mimetype": "text/x-python",
   "name": "python",
   "nbconvert_exporter": "python",
   "pygments_lexer": "ipython3",
   "version": "3.11.4"
  }
 },
 "nbformat": 4,
 "nbformat_minor": 5
}
