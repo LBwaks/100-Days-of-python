{
 "cells": [
  {
   "cell_type": "code",
   "execution_count": 45,
   "id": "27d45122-2c72-4884-ae0d-ebdc21c78048",
   "metadata": {},
   "outputs": [],
   "source": [
    "def isphoneNumber(tell):\n",
    "    if len(tell) != 12:\n",
    "        return False\n",
    "    for i in range(0,3):\n",
    "        if not tell[i].isdecimal():\n",
    "            return False\n",
    "    if tell[3] != '-':\n",
    "        return False\n",
    "    for t in range(4,7):\n",
    "        if not tell[t].isdecimal():\n",
    "            return False\n",
    "    if tell[7] != '-':\n",
    "        return False\n",
    "    for z in range(8,-1):\n",
    "        if tell[z].isdecimal():\n",
    "            return False\n",
    "    return tell\n",
    "        "
   ]
  },
  {
   "cell_type": "code",
   "execution_count": 47,
   "id": "76f3c51d-ba8b-4137-b6d2-1e2be9b6808a",
   "metadata": {},
   "outputs": [
    {
     "data": {
      "text/plain": [
       "'123-234-3456'"
      ]
     },
     "execution_count": 47,
     "metadata": {},
     "output_type": "execute_result"
    }
   ],
   "source": [
    "isphoneNumber('123-234-3456')"
   ]
  },
  {
   "cell_type": "markdown",
   "id": "160007f9-d3a0-49c3-80a8-70a89976b3f5",
   "metadata": {},
   "source": [
    "using regullarexpressions"
   ]
  },
  {
   "cell_type": "code",
   "execution_count": 49,
   "id": "f91d4fe3-dbd5-4735-8c02-414c67757d3c",
   "metadata": {},
   "outputs": [
    {
     "name": "stdout",
     "output_type": "stream",
     "text": [
      "Phone number found:  123-456-5676\n"
     ]
    }
   ],
   "source": [
    "import re\n",
    "phoneregex = re.compile(r'\\d\\d\\d-\\d\\d\\d-\\d\\d\\d\\d')\n",
    "mo = phoneregex.search(\"My tel is 123-456-5676\")\n",
    "print('Phone number found: ',mo.group())"
   ]
  },
  {
   "cell_type": "markdown",
   "id": "cd2e50f0-7ca5-4add-97b1-6344d7ce0dcf",
   "metadata": {},
   "source": [
    "Grouping with parantesiss"
   ]
  },
  {
   "cell_type": "code",
   "execution_count": 61,
   "id": "8acc0105-9a6e-470b-8eca-2f610e8e05db",
   "metadata": {},
   "outputs": [
    {
     "name": "stdout",
     "output_type": "stream",
     "text": [
      "Group 1:  234\n",
      "Group 2:  567-3456\n",
      "Group 0:  234-567-3456\n"
     ]
    }
   ],
   "source": [
    "import re \n",
    "tell = re.compile(r'(\\d\\d\\d)-(\\d\\d\\d-\\d\\d\\d\\d)')\n",
    "me = tell.search('My tell is 234-567-3456')\n",
    "print('Group 1: ', me.group(1))\n",
    "print('Group 2: ', me.group(2))\n",
    "print('Group 0: ' ,me.group(0))\n"
   ]
  },
  {
   "cell_type": "markdown",
   "id": "1a2eaaea-dd85-4fbb-9b31-0b9f44ead0cd",
   "metadata": {},
   "source": [
    "Matching Multiple Groups with the Pipe"
   ]
  },
  {
   "cell_type": "code",
   "execution_count": 73,
   "id": "fd209f29-0a11-474c-887d-2cc18a6ef982",
   "metadata": {},
   "outputs": [
    {
     "name": "stdout",
     "output_type": "stream",
     "text": [
      "Found:  Batman \n",
      "Found:   Tina Fey\n",
      "Found:  Tina Fey\n"
     ]
    }
   ],
   "source": [
    "import re \n",
    "text = re.compile(r'Batman | Tina Fey')\n",
    "s = text.search('Looking for Batman or tina fey')\n",
    "print('Found: ',s.group())\n",
    "s1=text.search('LOoking for Tina Fey or Batman')\n",
    "print('Found: ',s1.group())\n",
    "print('Found:' ,s1.group())\n"
   ]
  },
  {
   "cell_type": "markdown",
   "id": "69475902-f167-4878-85ac-f3acc970a851",
   "metadata": {},
   "source": [
    "Optional Matching with the Question Mark\n",
    "(wo)? is optional"
   ]
  },
  {
   "cell_type": "code",
   "execution_count": 77,
   "id": "e937b04f-2d84-484b-94e6-166c3a5a2f73",
   "metadata": {},
   "outputs": [
    {
     "name": "stdout",
     "output_type": "stream",
     "text": [
      "Batman\n",
      "Batwoman\n"
     ]
    }
   ],
   "source": [
    "import re\n",
    "text = re.compile(r'Bat(wo)?man')\n",
    "s= text.search('Thats Batman')\n",
    "s1=text.search('Tgats Batwoman')\n",
    "print(s.group())\n",
    "print(s1.group())"
   ]
  },
  {
   "cell_type": "markdown",
   "id": "909a6bfa-99d0-41e0-a52e-c43fcefdad98",
   "metadata": {},
   "source": [
    "Matching Zero or More with the Star\n",
    "(wo)* inBat(wo)*man'\n",
    "matchs\n",
    "0 presence like in Batman\n",
    "1 presence like in Batwoman\n",
    "multiple presence like Batwowowowoman"
   ]
  },
  {
   "cell_type": "code",
   "execution_count": 92,
   "id": "7e846ab7-4e2c-4a68-9e4d-94c6aa754882",
   "metadata": {},
   "outputs": [
    {
     "name": "stdout",
     "output_type": "stream",
     "text": [
      "Batwoman Batman Batwowowowoman\n"
     ]
    }
   ],
   "source": [
    "import re \n",
    "text = re.compile(r'Bat(wo)*man')\n",
    "s=text.search('Tats a Batwoman')\n",
    "s1=text.search('Thats a Batman')\n",
    "s2=text.search('Thats a Batwowowowoman')\n",
    "print(s.group(),s1.group(),s2.group())"
   ]
  },
  {
   "cell_type": "markdown",
   "id": "9b1459d1-fac9-402c-82d7-2ddaa434f79b",
   "metadata": {},
   "source": [
    "Matching One or More with the Plus\n",
    "(wo)* inBat(wo)*man'\n",
    "matchs\n",
    "\n",
    "1 presence like in Batwoman\n",
    "multiple presence like Batwowowowoman\n"
   ]
  },
  {
   "cell_type": "code",
   "execution_count": 96,
   "id": "04352801-42df-4bb4-9194-743ae91298fb",
   "metadata": {},
   "outputs": [
    {
     "name": "stdout",
     "output_type": "stream",
     "text": [
      "Batwoman Batwowowowoman\n"
     ]
    }
   ],
   "source": [
    "import re \n",
    "text = re.compile(r'Bat(wo)+man')\n",
    "s=text.search('Tats a Batwoman')\n",
    "s1=text.search('Thats a Batman')\n",
    "s2=text.search('Thats a Batwowowowoman')\n",
    "print(s.group(),s2.group())\n"
   ]
  },
  {
   "cell_type": "markdown",
   "id": "a8a05281-e16e-4d10-ae22-ce2e37f5052d",
   "metadata": {},
   "source": [
    "Greedy and Non-greedy Matching\n",
    "? can also be used to speecify non greedy"
   ]
  },
  {
   "cell_type": "code",
   "execution_count": 102,
   "id": "18aec869-af1a-43b1-9418-5719961b11cb",
   "metadata": {},
   "outputs": [
    {
     "name": "stdout",
     "output_type": "stream",
     "text": [
      "Greedy : HaHaHaHaHa\n",
      "Non Greedy is  HaHaHa\n"
     ]
    }
   ],
   "source": [
    "import re\n",
    "greedy = re.compile(r'(Ha){3,5}')\n",
    "text = greedy.search('HaHaHaHaHa')\n",
    "print('Greedy :',text.group())\n",
    "nogreedy = re.compile(r'(Ha){3,5}?')\n",
    "text= nogreedy.search('HaHaHaHa')\n",
    "print('Non Greedy is ',text.group())\n",
    "                    "
   ]
  },
  {
   "cell_type": "markdown",
   "id": "16d134d0-30b2-44c1-8d20-7bb8850c84b6",
   "metadata": {},
   "source": [
    "The findall() Method\n",
    "used similaly as search but it finds all the occurence "
   ]
  },
  {
   "cell_type": "code",
   "execution_count": 106,
   "id": "21773090-8457-40de-ac28-941acafad819",
   "metadata": {},
   "outputs": [
    {
     "name": "stdout",
     "output_type": "stream",
     "text": [
      "Tell is : ['333-455-3428', '556-434-3456']\n"
     ]
    }
   ],
   "source": [
    "import re \n",
    "find = re.compile(r'\\d\\d\\d-\\d\\d\\d-\\d\\d\\d\\d')\n",
    "s= find.findall(\"Find tell 333-455-3428 and 556-434-3456\")\n",
    "print('Tell is :',s)"
   ]
  },
  {
   "cell_type": "markdown",
   "id": "93f56327-090a-4090-9a6a-fd5102a181b3",
   "metadata": {},
   "source": [
    "Making Your Own Character Classes\n",
    "use [] to create your own\n",
    "[a-zA-Z0-9] matches all charaters and digits"
   ]
  },
  {
   "cell_type": "code",
   "execution_count": 110,
   "id": "6d372bf2-1636-438f-ae09-a8d345d8f81b",
   "metadata": {},
   "outputs": [
    {
     "name": "stdout",
     "output_type": "stream",
     "text": [
      "['e', 'i', 'a', 'e', 'o', 'u', 'e', 'i', 'i', 'a', 'a', 'e', 'a', 'u', 'i', 'i', 'a', 'e', 'o', 'u', 'e', 'e']\n",
      "['B', 'y', ' ', 'p', 'l', 'c', 'n', 'g', ' ', ' ', 'c', 'r', 't', ' ', 'c', 'h', 'r', 'c', 't', 'r', ' ', '(', '^', ')', ' ', 'j', 's', 't', ' ', 'f', 't', 'r', ' ', 't', 'h', ' ', 'c', 'h', 'r', 'c', 't', 'r', ' ', 'c', 'l', 's', 's', '’', 's', ' ', 'p', 'n', 'n', 'g', ' ', 'b', 'r', 'c', 'k', 't', ',', ' ', 'y', ' ', 'c', 'n', ' ', 'm', 'k', ' ', ' ', 'n', 'g', 't', 'v', ' ', 'c', 'h', 'r', 'c', 't', 'r', ' ', 'c', 'l', 's', 's']\n"
     ]
    }
   ],
   "source": [
    "# a class that matches vowels\n",
    "import re \n",
    "v = re.compile(r'[aeiouAEIUO]')\n",
    "s = v.findall('The findall() Method used similaly as search but it finds all the occurence ')\n",
    "print(s)\n",
    "# By placing a caret character (^) just after the character class’s opening bracket, you can make a negative character class\n",
    "v1= re.compile(r'[^aeiouAEIOU]')\n",
    "s=v1.findall('By placing a caret character (^) just after the character class’s opening bracket, you can make a negative character class')\n",
    "print(s)"
   ]
  },
  {
   "cell_type": "markdown",
   "id": "eb3c07f6-2ccb-4575-8f99-e28ece4e43ce",
   "metadata": {},
   "source": [
    "The Caret(^) and Dollar($) Sign Characters\n",
    "^Hello matches string that begin with Hello\n",
    "\\d$ mtches strings that end with digits"
   ]
  },
  {
   "cell_type": "code",
   "execution_count": 118,
   "id": "9832f79a-6de9-4263-954d-cac3f90e6571",
   "metadata": {},
   "outputs": [
    {
     "name": "stdout",
     "output_type": "stream",
     "text": [
      "['Hello']\n",
      "[]\n",
      "['8']\n"
     ]
    }
   ],
   "source": [
    "import re \n",
    "c = re.compile(r'^Hello')\n",
    "# this works\n",
    "s= c.findall('Hello there Hello its us')\n",
    "print(s)\n",
    "# not working\n",
    "s1=c.findall('Hey Hello')\n",
    "print(s1)\n",
    "d=re.compile(r'\\d$')\n",
    "f= d.findall('I have hammer98')\n",
    "print(f)\n"
   ]
  },
  {
   "cell_type": "markdown",
   "id": "432291e3-8532-4e1e-9c1d-3a15fb373166",
   "metadata": {},
   "source": [
    "The Wildcard Character (.)\n",
    "this will match any character excprt for a new line"
   ]
  },
  {
   "cell_type": "code",
   "execution_count": 120,
   "id": "a42a12b0-5f80-4007-b6f3-3b5f15d5daef",
   "metadata": {},
   "outputs": [
    {
     "name": "stdout",
     "output_type": "stream",
     "text": [
      "['cat', 'hat', 'sat', 'lat', 'mat']\n"
     ]
    }
   ],
   "source": [
    "import re \n",
    "m = re.compile(r'.at')\n",
    "s=m.findall('The cat in the hat sat on the flat mat.')\n",
    "print(s)"
   ]
  },
  {
   "cell_type": "markdown",
   "id": "5ac0b0a2-a1af-47cd-9228-44ddce813e5d",
   "metadata": {},
   "source": [
    "Case-Insensitive Matching\n",
    "to ignore case sensitivity use re.IGNORECASE OR re.I"
   ]
  },
  {
   "cell_type": "code",
   "execution_count": 122,
   "id": "8f294b5b-e87e-4e2f-b343-470029731bf9",
   "metadata": {},
   "outputs": [
    {
     "name": "stdout",
     "output_type": "stream",
     "text": [
      "['robocop']\n"
     ]
    }
   ],
   "source": [
    "import re\n",
    "m = re.compile(r'Robocop',re.I)\n",
    "s= m.findall('He is a robocop')\n",
    "print(s)"
   ]
  },
  {
   "cell_type": "markdown",
   "id": "73bbf544-a9c6-4960-8b90-acc0a810b93f",
   "metadata": {},
   "source": [
    "Project: Phone Number and Email Address Extractor"
   ]
  },
  {
   "cell_type": "code",
   "execution_count": 138,
   "id": "a031c565-2708-47b9-b5d6-e8b9a45f9209",
   "metadata": {},
   "outputs": [
    {
     "name": "stdout",
     "output_type": "stream",
     "text": [
      "[]\n"
     ]
    }
   ],
   "source": [
    "import re\n",
    "# phone regex 123-234-3456 or (123)-345-4568\n",
    "phone = re.compile(r'(\\d{3}|\\(\\d{3}\\))?(\\s|-|\\.)?(\\d{4})   ')\n",
    "s= phone.findall('234-345-3454')\n",
    "print(s)\n",
    "                   \n",
    "# email regex"
   ]
  },
  {
   "cell_type": "code",
   "execution_count": null,
   "id": "4ca7975a-ad6c-4fc2-9a75-6674991035f0",
   "metadata": {},
   "outputs": [],
   "source": []
  }
 ],
 "metadata": {
  "kernelspec": {
   "display_name": "anaconda-panel-2023.05-py310",
   "language": "python",
   "name": "conda-env-anaconda-panel-2023.05-py310-py"
  },
  "language_info": {
   "codemirror_mode": {
    "name": "ipython",
    "version": 3
   },
   "file_extension": ".py",
   "mimetype": "text/x-python",
   "name": "python",
   "nbconvert_exporter": "python",
   "pygments_lexer": "ipython3",
   "version": "3.11.4"
  }
 },
 "nbformat": 4,
 "nbformat_minor": 5
}
