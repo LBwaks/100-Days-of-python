{
 "cells": [
  {
   "cell_type": "markdown",
   "id": "7d93e8ca-ab6d-456f-9711-3954105dcfa2",
   "metadata": {},
   "source": [
    "\n",
    "Bitmap Message, \n",
    "Displays a text message according to the provided bitmap image."
   ]
  },
  {
   "cell_type": "code",
   "execution_count": 1,
   "id": "53ee6f82-2730-46e4-bd75-092bdbe9d4f7",
   "metadata": {
    "tags": []
   },
   "outputs": [],
   "source": [
    "import sys\n",
    "bitmap =\"\"\"\n",
    " ....................................................................\n",
    "    **************   *  *** **  *      ******************************\n",
    "   ********************* ** ** *  * ****************************** *\n",
    "  **      *****************       ******************************\n",
    "           *************          **  * **** ** ************** *\n",
    "            *********            *******   **************** * *\n",
    "             ********           ***************************  *\n",
    "    *        * **** ***         *************** ******  ** *\n",
    "                ****  *         ***************   *** ***  *\n",
    "                  ******         *************    **   **  *\n",
    "                  ********        *************    *  ** ***\n",
    "                    ********         ********          * *** ****\n",
    "                    *********         ******  *        **** ** * **\n",
    "                    *********         ****** * *           *** *   *\n",
    "                      ******          ***** **             *****   *\n",
    "                      *****            **** *            ********\n",
    "                     *****             ****              *********\n",
    "                     ****              **                 *******   *\n",
    "                     ***                                       *    *\n",
    "                     **     *                    *\n",
    " ....................................................................\"\"\""
   ]
  },
  {
   "cell_type": "code",
   "execution_count": 3,
   "id": "df1d0c1e-c5ae-42c0-b384-6ea7e0da9a9e",
   "metadata": {
    "tags": []
   },
   "outputs": [
    {
     "name": "stdout",
     "output_type": "stream",
     "text": [
      "Bitmap message by the programmer\n",
      "Enter message to be displyed\n"
     ]
    },
    {
     "name": "stdin",
     "output_type": "stream",
     "text": [
      "> hello\n"
     ]
    }
   ],
   "source": [
    "print('Bitmap message by the programmer')\n",
    "print(\"Enter message to be displyed\")\n",
    "message = input('>')"
   ]
  },
  {
   "cell_type": "code",
   "execution_count": 15,
   "id": "ec5d1259-6a05-431a-affb-268d22729c67",
   "metadata": {
    "tags": []
   },
   "outputs": [
    {
     "name": "stdout",
     "output_type": "stream",
     "text": [
      "\n",
      " ellohellohellohellohellohellohellohellohellohellohellohellohellohell\n",
      "    ohellohellohel   e  ohe lo  l      ohellohellohellohellohellohell\n",
      "   lohellohellohellohell he lo e  o ellohellohellohellohellohelloh l\n",
      "  ll      hellohellohellohe       ohellohellohellohellohellohell\n",
      "           ellohellohell          oh  l hell he lohellohellohe l\n",
      "            llohelloh            lohello   lohellohellohell h l\n",
      "             lohelloh           llohellohellohellohellohell  e\n",
      "    o        l hell hel         llohellohellohe lohell  el o\n",
      "                ello  l         llohellohellohe   hel ohe  o\n",
      "                  lohell         lohellohelloh    he   he  o\n",
      "                  lohelloh        ohellohellohe    e  oh llo\n",
      "                    hellohel         llohello          h llo ello\n",
      "                    hellohell         lohell  e        hell he l he\n",
      "                    hellohell         lohell h l           ohe l   l\n",
      "                      llohel          lohel oh             ohell   l\n",
      "                      llohe            ohel o            llohello\n",
      "                     elloh             ohel              llohelloh\n",
      "                     ello              oh                 lohello   l\n",
      "                     ell                                       l    l\n",
      "                     el     l                    o\n",
      " ellohellohellohellohellohellohellohellohellohellohellohellohellohell\n"
     ]
    }
   ],
   "source": [
    "if message =='':\n",
    "    sys.exit()\n",
    "# loop over each line in bitmap\n",
    "for line in bitmap.splitlines():\n",
    "    # loop over each character in the line\n",
    "    for i , bit in enumerate(line):\n",
    "        if bit==' ':\n",
    "            print(' ', end=\"\")\n",
    "        else:\n",
    "            # print a character from the message\n",
    "            print(message[i%len(message)], end=\"\")\n",
    "    print()"
   ]
  },
  {
   "cell_type": "code",
   "execution_count": null,
   "id": "a315311f-2b1f-4d4d-8e21-3aa2d6ee6a1c",
   "metadata": {},
   "outputs": [],
   "source": []
  }
 ],
 "metadata": {
  "kernelspec": {
   "display_name": "anaconda-panel-2023.05-py310",
   "language": "python",
   "name": "conda-env-anaconda-panel-2023.05-py310-py"
  },
  "language_info": {
   "codemirror_mode": {
    "name": "ipython",
    "version": 3
   },
   "file_extension": ".py",
   "mimetype": "text/x-python",
   "name": "python",
   "nbconvert_exporter": "python",
   "pygments_lexer": "ipython3",
   "version": "3.11.4"
  }
 },
 "nbformat": 4,
 "nbformat_minor": 5
}
