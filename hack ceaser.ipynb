{
 "cells": [
  {
   "cell_type": "markdown",
   "id": "512febc6-e808-4c83-a03f-b8d766abbcf5",
   "metadata": {},
   "source": [
    "Breaking ceasers cipher"
   ]
  },
  {
   "cell_type": "code",
   "execution_count": 12,
   "id": "f0f0aca0-e40f-4dd2-ac13-562c449c104f",
   "metadata": {},
   "outputs": [
    {
     "name": "stdout",
     "output_type": "stream",
     "text": [
      "Ceasers cipher hacker\n",
      "Enter what you want to hack\n"
     ]
    },
    {
     "name": "stdin",
     "output_type": "stream",
     "text": [
      "> N FR ANIYTW\n"
     ]
    },
    {
     "name": "stdout",
     "output_type": "stream",
     "text": [
      "Key #:0 N FR ANIYTW\n",
      "Key #:1 M EQ ZMGXSV\n",
      "Key #:2 L DP YLFWRU\n",
      "Key #:3 K CO XKEVQT\n",
      "Key #:4 J BN WJDUPS\n",
      "Key #:5 I AM VICTOR\n",
      "Key #:6 G ZL UGBSNQ\n",
      "Key #:7 F YK TFARMP\n",
      "Key #:8 E XJ SEZQLO\n",
      "Key #:9 D WI RDYPKN\n",
      "Key #:10 C VG QCXOJM\n",
      "Key #:11 B UF PBWNIL\n",
      "Key #:12 A TE OAVMGK\n",
      "Key #:13 Z SD NZULFJ\n",
      "Key #:14 Y RC MYTKEI\n",
      "Key #:15 X QB LXSJDG\n",
      "Key #:16 W PA KWRICF\n",
      "Key #:17 V OZ JVQGBE\n",
      "Key #:18 U NY IUPFAD\n",
      "Key #:19 T MX GTOEZC\n",
      "Key #:20 S LW FSNDYB\n",
      "Key #:21 R KV ERMCXA\n",
      "Key #:22 Q JU DQLBWZ\n",
      "Key #:23 P IT CPKAVY\n",
      "Key #:24 O GS BOJZUX\n"
     ]
    }
   ],
   "source": [
    "print('Ceasers cipher hacker')\n",
    "print('Enter what you want to hack')\n",
    "messages = input('>')\n",
    "SYMBOLS = 'ABCDEFGIJKLMNOPQRSTUVWXYZ'\n",
    "for key in range(len(SYMBOLS)):\n",
    "    translated =''\n",
    "    for symbol in messages:\n",
    "        if symbol in SYMBOLS:\n",
    "            num =SYMBOLS.find(symbol)\n",
    "            num= num-key\n",
    "            if num<0:\n",
    "                num= num+len(SYMBOLS)\n",
    "            translated = translated + SYMBOLS[num]\n",
    "        else:\n",
    "            translated = translated +symbol\n",
    "    print('Key #:{} {}'.format(key,translated))\n",
    "            \n"
   ]
  },
  {
   "cell_type": "code",
   "execution_count": null,
   "id": "242f858d-a7c5-425d-8692-2a971d2574c4",
   "metadata": {},
   "outputs": [],
   "source": []
  }
 ],
 "metadata": {
  "kernelspec": {
   "display_name": "anaconda-panel-2023.05-py310",
   "language": "python",
   "name": "conda-env-anaconda-panel-2023.05-py310-py"
  },
  "language_info": {
   "codemirror_mode": {
    "name": "ipython",
    "version": 3
   },
   "file_extension": ".py",
   "mimetype": "text/x-python",
   "name": "python",
   "nbconvert_exporter": "python",
   "pygments_lexer": "ipython3",
   "version": "3.11.4"
  }
 },
 "nbformat": 4,
 "nbformat_minor": 5
}
