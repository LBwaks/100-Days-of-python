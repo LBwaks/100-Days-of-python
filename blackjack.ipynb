{
 "cells": [
  {
   "cell_type": "markdown",
   "id": "8c950cf2-b9dc-4589-a8e4-6e3f2df00fca",
   "metadata": {},
   "source": [
    "Blackjack\n",
    "Blackjack, also known as 21, is a card game where players try to get as close to 21 points as possible without going over. This program uses images drawn with text characters, called ASCII art"
   ]
  },
  {
   "cell_type": "code",
   "execution_count": 171,
   "id": "f023aafe-763e-4178-ad8b-53505dad624c",
   "metadata": {
    "tags": []
   },
   "outputs": [],
   "source": [
    "import sys,random\n",
    "HEARTS = chr(9829)\n",
    "SPADES = chr(9824)\n",
    "DIAMONDS =chr(9830)\n",
    "CLUBS=chr(9827)\n",
    "BACKSIDE =\"backside\"\n"
   ]
  },
  {
   "cell_type": "code",
   "execution_count": 173,
   "id": "f913a398-d28e-4756-8d12-39166da60c1a",
   "metadata": {
    "tags": []
   },
   "outputs": [],
   "source": [
    "def main():\n",
    "    print('''Blackjack, by Al Sweigart al@inventwithpython.com\n",
    " \n",
    "     Rules:\n",
    "       Try to get as close to 21 without going over.\n",
    "        Kings, Queens, and Jacks are worth 10 points.\n",
    "        Aces are worth 1 or 11 points.\n",
    "        Cards 2 through 10 are worth their face value.\n",
    "        (H)it to take another card.\n",
    "        (S)tand to stop taking cards.\n",
    "        On your first play, you can (D)ouble down to increase your bet\n",
    "        but must hit exactly one more time before standing.\n",
    "        In case of a tie, the bet is returned to the player.\n",
    "        The dealer stops hitting at 17.''')\n",
    "    money = 5000\n",
    "    # main loop\n",
    "    while True:\n",
    "        # check if user has money\n",
    "        if money <= 0:\n",
    "            print(\"You are broke\")\n",
    "            print('You are lucky this is not real money')\n",
    "            print(\"Thank you for playing\")\n",
    "            sys.exit()\n",
    "        # let user enter his bet for this round\n",
    "        print('Money :',money)\n",
    "        bet=getBet(money)\n",
    "        \n",
    "        # give the delear and the player two cards from the deck\n",
    "        deck = getDeck()\n",
    "        dealerHand =[deck.pop(),deck.pop()]\n",
    "        playerHand =[deck.pop(),deck.pop()]\n",
    "        \n",
    "        # handle player actions\n",
    "        print('Bet',bet)\n",
    "        while True : #keep looping until the player bursts\n",
    "            displayHands(dealerHand,playerHand,False)\n",
    "            \n",
    "            # check if player has a burst >21\n",
    "            if getHandValue(playerHand)>21:\n",
    "                break\n",
    "            # get players move either H D S\n",
    "            move =getMove(playerHand,money-bet)\n",
    "            \n",
    "            if move == 'D':\n",
    "                # player is doubling down they can increase their bets\n",
    "                additionBet = getBet(min(bet,(money-bet)))\n",
    "                bet =+ additionBet\n",
    "                print(\"Bet increased to {}.\".format(bet))\n",
    "                print('Bet',bet)\n",
    "            \n",
    "            if move in (\"H\",\"D\"):\n",
    "                # player is hit/doubling down takes another card\n",
    "                newCard= deck.pop()\n",
    "                rank ,suit =newCard\n",
    "                print('You drew a {} of {}'.format(rank,suit))\n",
    "                playerHand.append(newCard)\n",
    "                \n",
    "                if getHandValue(playerHand)>21:\n",
    "                    break\n",
    "                    # player has burst\n",
    "            if move in ('S','D'):\n",
    "                # stand/doublong down stops the players turn \n",
    "                break\n",
    "                \n",
    "        # handle the dealeras action\n",
    "        if getHandValue(playerHand)<=21:\n",
    "            while getHandValue(dealerHand) <17:\n",
    "                # dealer hits\n",
    "                print(\"DEaler hits\")\n",
    "                dealerHand.append(deck.pop())\n",
    "                displayHand(playerHand,dealerHand,False)\n",
    "                \n",
    "                if getHandValue(dealerHand)>21:\n",
    "                    break \n",
    "                    # dealer bursts\n",
    "                    \n",
    "                input(\"Press enter to continue ..\")\n",
    "                print(\"\\n\\n\")\n",
    "        # show final hand values\n",
    "        displayHands(playerHand,dealerHand,True)\n",
    "        playerValue =getHandValue(playerHand)\n",
    "        dealerValue =getHandValue(dealerHand)\n",
    "        # handle wheter the player won lost or tied\n",
    "        \n",
    "        if dealerValue > 21:\n",
    "            print(\"Dealer burst you win {}\".format(bet))\n",
    "            money += bet\n",
    "        elif (playerValue<dealerValue) or (playerValue>21):\n",
    "            print(\"You lost \")\n",
    "            money-= bet\n",
    "        elif playerValue>dealerValue:\n",
    "            print('You won {}'.format(bet))\n",
    "            money+= bet\n",
    "        elif playerValue == dealerValue :\n",
    "            print('Its a tie the bet has been return to you')\n",
    "            \n",
    "        input(\"Press enter to continue...\")\n",
    "        print('\\n\\n')\n",
    "        \n",
    "                  \n",
    "        \n",
    "                \n",
    "                \n",
    "            \n",
    "        \n",
    "        "
   ]
  },
  {
   "cell_type": "code",
   "execution_count": 174,
   "id": "d1c399df-b743-41b1-90d9-48d0d2623bb3",
   "metadata": {
    "tags": []
   },
   "outputs": [],
   "source": [
    "def getBet(maxBet):\n",
    "    # ask the player how much they want to bet for this round\n",
    "    while True:\n",
    "        print(\"How much do you want to bet?(1-{} or QUIT)\".format(maxBet))\n",
    "        bet = input('>').upper().strip()\n",
    "        if bet =='QUIT':\n",
    "            print(\"Thanks for playing\")\n",
    "            sys.exit()\n",
    "        if not bet.isdecimal():\n",
    "            continue\n",
    "        bet = int(bet)\n",
    "        if 1<= bet<=maxBet:\n",
    "            # continue user has entered valid bet \n",
    "            return bet\n",
    "        \n",
    "    "
   ]
  },
  {
   "cell_type": "code",
   "execution_count": 175,
   "id": "07e2c73a-b92d-43f3-9592-97434038d2ad",
   "metadata": {
    "tags": []
   },
   "outputs": [],
   "source": [
    "def getDeck():\n",
    "    # return a list of rank and suit of all 52 cards\n",
    "    deck =[]\n",
    "    for suit in (HEARTS,SPADES,CLUBS,DIAMONDS):\n",
    "        for rank in (2,11):\n",
    "            deck.append((str(rank), suit)) #add the numbered cards\n",
    "        for rank in ('J','K','Q','A'):\n",
    "            deck.append((rank,suit))\n",
    "    random.shuffle(deck)\n",
    "    return deck\n",
    "            "
   ]
  },
  {
   "cell_type": "code",
   "execution_count": 179,
   "id": "405c8665-1c44-44d6-8b04-455cbc2f7929",
   "metadata": {
    "tags": []
   },
   "outputs": [],
   "source": [
    "def displayHands(playerHand,dealerHand,showDealerHand):\n",
    "    # show the player and deelaer cards ,hide the dealers card first is showdealer if false\n",
    "    print()\n",
    "    if showDealerHand:\n",
    "        print('Dealer:',getHandValue(dealerHand))\n",
    "        displayCards(dealerHand)\n",
    "    else:\n",
    "        # hide delears card first\n",
    "        displayCards([BACKSIDE] + dealerHand[1:])\n",
    "    # show players card\n",
    "    print('PLayer:',getHandValue(playerHand))\n",
    "    displayCards(playerHand)"
   ]
  },
  {
   "cell_type": "code",
   "execution_count": 180,
   "id": "5c7b7e3f-70c8-4abf-af80-892d2d692b86",
   "metadata": {
    "tags": []
   },
   "outputs": [],
   "source": [
    "def getHandValue(cards):\n",
    "    \"\"\"Returns the value of the cards. Face cards are worth 10, aces are\n",
    "     worth 11 or 1 (this function picks the most suitable ace value).\"\"\"\n",
    "    value = 0\n",
    "    numberOfAces =0\n",
    "    for card in cards:\n",
    "        rank = card[0]\n",
    "        if rank ==\"A\":\n",
    "            numberOfAces +=1\n",
    "        elif rank in ('J','K','Q'):\n",
    "            value +=10\n",
    "        else:\n",
    "            value += int(rank) #numbered cards are worth their number\n",
    "    value+=numberOfAces # add 1 per ace\n",
    "    for i in range(numberOfAces):\n",
    "        # if 10 can be added without burstig do so\n",
    "        if (value +10)<=21:\n",
    "            value+=10\n",
    "    return value\n",
    "        "
   ]
  },
  {
   "cell_type": "code",
   "execution_count": 183,
   "id": "113da5b9-b098-48b8-af45-46e649b20e99",
   "metadata": {
    "tags": []
   },
   "outputs": [],
   "source": [
    "def displayCards(cards):\n",
    "    # display all the cards in the list\n",
    "    rows =['','','','','',]\n",
    "    for i,card in enumerate(cards):\n",
    "        rows[0] +='____' #print the top line card\n",
    "        if card ==BACKSIDE: #print the cards backside\n",
    "            rows[1]+= '|## | '\n",
    "            rows[2]+= '|###| '\n",
    "            rows[3]+= '|_##| '\n",
    "        else:\n",
    "            # print the cards front\n",
    "            rank,suit =card\n",
    "            rows[1]+='|{} | '.format(rank.ljust(2))\n",
    "            rows[2]+='| {} | '.format(suit)\n",
    "            rows[3] += '|_{}| '.format(rank.rjust(2,'_'))\n",
    "    for row in rows :\n",
    "        print(row)\n",
    "        # print all rows on screen\n",
    "                                       "
   ]
  },
  {
   "cell_type": "code",
   "execution_count": 185,
   "id": "5c4f9167-4e0d-49f2-bcea-ce799479bec0",
   "metadata": {},
   "outputs": [
    {
     "name": "stdout",
     "output_type": "stream",
     "text": [
      "Blackjack, by Al Sweigart al@inventwithpython.com\n",
      " \n",
      "     Rules:\n",
      "       Try to get as close to 21 without going over.\n",
      "        Kings, Queens, and Jacks are worth 10 points.\n",
      "        Aces are worth 1 or 11 points.\n",
      "        Cards 2 through 10 are worth their face value.\n",
      "        (H)it to take another card.\n",
      "        (S)tand to stop taking cards.\n",
      "        On your first play, you can (D)ouble down to increase your bet\n",
      "        but must hit exactly one more time before standing.\n",
      "        In case of a tie, the bet is returned to the player.\n",
      "        The dealer stops hitting at 17.\n",
      "Money : 5000\n",
      "How much do you want to bet?(1-5000 or QUIT)\n"
     ]
    },
    {
     "name": "stdin",
     "output_type": "stream",
     "text": [
      "> 2000\n"
     ]
    },
    {
     "name": "stdout",
     "output_type": "stream",
     "text": [
      "Bet 2000\n",
      "\n",
      "________\n",
      "|## | |J  | \n",
      "|###| | ♥ | \n",
      "|_##| |__J| \n",
      "\n",
      "PLayer: 22\n",
      "________\n",
      "|11 | |11 | \n",
      "| ♣ | | ♦ | \n",
      "|_11| |_11| \n",
      "\n"
     ]
    },
    {
     "name": "stdin",
     "output_type": "stream",
     "text": [
      "(H)it, (S)tand, (D)ouble down>  s\n"
     ]
    },
    {
     "name": "stdout",
     "output_type": "stream",
     "text": [
      "\n",
      "Dealer: 22\n",
      "________\n",
      "|11 | |11 | \n",
      "| ♣ | | ♦ | \n",
      "|_11| |_11| \n",
      "\n",
      "PLayer: 20\n",
      "________\n",
      "|K  | |J  | \n",
      "| ♥ | | ♥ | \n",
      "|__K| |__J| \n",
      "\n",
      "Dealer burst you win 2000\n"
     ]
    },
    {
     "name": "stdin",
     "output_type": "stream",
     "text": [
      "Press enter to continue... 4500\n"
     ]
    },
    {
     "name": "stdout",
     "output_type": "stream",
     "text": [
      "\n",
      "\n",
      "\n",
      "Money : 7000\n",
      "How much do you want to bet?(1-7000 or QUIT)\n"
     ]
    },
    {
     "name": "stdin",
     "output_type": "stream",
     "text": [
      "> 5000\n"
     ]
    },
    {
     "name": "stdout",
     "output_type": "stream",
     "text": [
      "Bet 5000\n",
      "\n",
      "________\n",
      "|## | |Q  | \n",
      "|###| | ♠ | \n",
      "|_##| |__Q| \n",
      "\n",
      "PLayer: 4\n",
      "________\n",
      "|2  | |2  | \n",
      "| ♣ | | ♥ | \n",
      "|__2| |__2| \n",
      "\n"
     ]
    },
    {
     "name": "stdin",
     "output_type": "stream",
     "text": [
      "(H)it, (S)tand, (D)ouble down>  h\n"
     ]
    },
    {
     "name": "stdout",
     "output_type": "stream",
     "text": [
      "You drew a 2 of ♦\n",
      "\n",
      "____________\n",
      "|## | |Q  | |2  | \n",
      "|###| | ♠ | | ♦ | \n",
      "|_##| |__Q| |__2| \n",
      "\n",
      "PLayer: 4\n",
      "________\n",
      "|2  | |2  | \n",
      "| ♣ | | ♥ | \n",
      "|__2| |__2| \n",
      "\n"
     ]
    },
    {
     "name": "stdin",
     "output_type": "stream",
     "text": [
      "(H)it, (S)tand>  h\n"
     ]
    },
    {
     "name": "stdout",
     "output_type": "stream",
     "text": [
      "You drew a K of ♦\n",
      "\n",
      "Dealer: 4\n",
      "________\n",
      "|2  | |2  | \n",
      "| ♣ | | ♥ | \n",
      "|__2| |__2| \n",
      "\n",
      "PLayer: 24\n",
      "________________\n",
      "|2  | |Q  | |2  | |K  | \n",
      "| ♠ | | ♠ | | ♦ | | ♦ | \n",
      "|__2| |__Q| |__2| |__K| \n",
      "\n",
      "You lost \n"
     ]
    },
    {
     "name": "stdin",
     "output_type": "stream",
     "text": [
      "Press enter to continue... \n"
     ]
    },
    {
     "name": "stdout",
     "output_type": "stream",
     "text": [
      "\n",
      "\n",
      "\n",
      "Money : 2000\n",
      "How much do you want to bet?(1-2000 or QUIT)\n"
     ]
    },
    {
     "name": "stdin",
     "output_type": "stream",
     "text": [
      "> 2000\n"
     ]
    },
    {
     "name": "stdout",
     "output_type": "stream",
     "text": [
      "Bet 2000\n",
      "\n",
      "________\n",
      "|## | |A  | \n",
      "|###| | ♠ | \n",
      "|_##| |__A| \n",
      "\n",
      "PLayer: 20\n",
      "________\n",
      "|J  | |J  | \n",
      "| ♥ | | ♦ | \n",
      "|__J| |__J| \n",
      "\n"
     ]
    },
    {
     "name": "stdin",
     "output_type": "stream",
     "text": [
      "(H)it, (S)tand>  s\n"
     ]
    },
    {
     "name": "stdout",
     "output_type": "stream",
     "text": [
      "\n",
      "Dealer: 20\n",
      "________\n",
      "|J  | |J  | \n",
      "| ♥ | | ♦ | \n",
      "|__J| |__J| \n",
      "\n",
      "PLayer: 13\n",
      "________\n",
      "|2  | |A  | \n",
      "| ♥ | | ♠ | \n",
      "|__2| |__A| \n",
      "\n",
      "You lost \n"
     ]
    },
    {
     "name": "stdin",
     "output_type": "stream",
     "text": [
      "Press enter to continue... \n"
     ]
    },
    {
     "name": "stdout",
     "output_type": "stream",
     "text": [
      "\n",
      "\n",
      "\n",
      "You are broke\n",
      "You are lucky this is not real money\n",
      "Thank you for playing\n"
     ]
    },
    {
     "ename": "SystemExit",
     "evalue": "",
     "output_type": "error",
     "traceback": [
      "An exception has occurred, use %tb to see the full traceback.\n",
      "\u001b[0;31mSystemExit\u001b[0m\n"
     ]
    },
    {
     "name": "stderr",
     "output_type": "stream",
     "text": [
      "/opt/conda/envs/anaconda-panel-2023.05-py310/lib/python3.11/site-packages/IPython/core/interactiveshell.py:3513: UserWarning: To exit: use 'exit', 'quit', or Ctrl-D.\n",
      "  warn(\"To exit: use 'exit', 'quit', or Ctrl-D.\", stacklevel=1)\n"
     ]
    }
   ],
   "source": [
    "def getMove(playerHand,money):\n",
    "    \"\"\"Asks the player for their move, and returns 'H' for hit, 'S' for\n",
    "     stand, and 'D' for double down.\"\"\"\n",
    "    while True:\n",
    "        moves=['(H)it','(S)tand']\n",
    "        if len(playerHand)== 2 and money >0:\n",
    "               moves.append('(D)ouble down')\n",
    "        # Get the player's move:\n",
    "        movePrompt = ', '.join(moves) + '> '\n",
    "        move = input(movePrompt).upper()\n",
    "        if move in ('H', 'S'):\n",
    "            return move  # Player has entered a valid move.\n",
    "        if move == 'D' and '(D)ouble down' in moves:\n",
    "            return move  # Player has entered a valid move.\n",
    " \n",
    " # If the program is run (instead of imported), run the game:\n",
    "if __name__ == '__main__':\n",
    "     main()"
   ]
  },
  {
   "cell_type": "code",
   "execution_count": null,
   "id": "403668df-1972-4f6b-87a0-b7befd4e562a",
   "metadata": {},
   "outputs": [],
   "source": []
  },
  {
   "cell_type": "code",
   "execution_count": null,
   "id": "e05a1fa1-d260-4389-8fe6-fafae906bc0c",
   "metadata": {},
   "outputs": [],
   "source": []
  }
 ],
 "metadata": {
  "kernelspec": {
   "display_name": "anaconda-panel-2023.05-py310",
   "language": "python",
   "name": "conda-env-anaconda-panel-2023.05-py310-py"
  },
  "language_info": {
   "codemirror_mode": {
    "name": "ipython",
    "version": 3
   },
   "file_extension": ".py",
   "mimetype": "text/x-python",
   "name": "python",
   "nbconvert_exporter": "python",
   "pygments_lexer": "ipython3",
   "version": "3.11.4"
  }
 },
 "nbformat": 4,
 "nbformat_minor": 5
}
