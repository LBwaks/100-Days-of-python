{
 "cells": [
  {
   "cell_type": "markdown",
   "id": "93b832e3-33d3-4ea3-879b-d4fcb0591746",
   "metadata": {},
   "source": [
    "Ceasers Cipher\n",
    "Enter words you want to cipher  and a key to encrypt it\n",
    "Enter words to decypt an key to decypt it\n"
   ]
  },
  {
   "cell_type": "code",
   "execution_count": 29,
   "id": "7a86fab1-c62b-4723-9ec5-475417f49a96",
   "metadata": {},
   "outputs": [],
   "source": [
    "import paperclip"
   ]
  },
  {
   "cell_type": "code",
   "execution_count": 53,
   "id": "00eddc3c-3317-41fb-b4bf-87bbd3dd8ac0",
   "metadata": {},
   "outputs": [
    {
     "name": "stdout",
     "output_type": "stream",
     "text": [
      "Caesar Cipher, by Al Sweigart al@inventwithpython.com\n",
      "The Caesar cipher encrypts letters by shifting them over by a\n",
      "key number. For example, a key of 2 means the letter A is\n",
      "encrypted into C, the letter B encrypted into D, and so on.\n",
      "\n"
     ]
    }
   ],
   "source": [
    "# add symbols to be encrypted\n",
    "SYMBOLS = 'ABCDEFGIJKLMNOPQRSTUVWXYZ'\n",
    "print('Caesar Cipher, by Al Sweigart al@inventwithpython.com')\n",
    "print('The Caesar cipher encrypts letters by shifting them over by a')\n",
    "print('key number. For example, a key of 2 means the letter A is')\n",
    "print('encrypted into C, the letter B encrypted into D, and so on.')\n",
    "print()"
   ]
  },
  {
   "cell_type": "code",
   "execution_count": 55,
   "id": "7d7ba8f2-3e79-425c-af43-d706cd455f06",
   "metadata": {},
   "outputs": [
    {
     "name": "stdout",
     "output_type": "stream",
     "text": [
      "Do you want to (e)ncrypt or (d)ecrypt?\n"
     ]
    },
    {
     "name": "stdin",
     "output_type": "stream",
     "text": [
      "> d\n"
     ]
    }
   ],
   "source": [
    "# let user enter the number they want to encrypt or decrypt\n",
    "while True:\n",
    "    print('Do you want to (e)ncrypt or (d)ecrypt?')\n",
    "    responce =input('>').lower()\n",
    "    if responce.startswith('e'):\n",
    "        mode = 'encrypt'\n",
    "        break\n",
    "    elif responce.startswith('d'):\n",
    "        mode ='decrypt'\n",
    "        break\n",
    "    print('Please enter d or e')"
   ]
  },
  {
   "cell_type": "code",
   "execution_count": 57,
   "id": "5c9af8e8-facd-44ad-8c43-e0129a50f8d0",
   "metadata": {},
   "outputs": [
    {
     "name": "stdout",
     "output_type": "stream",
     "text": [
      "Enter the want you to use 0 to {}. 24\n"
     ]
    },
    {
     "name": "stdin",
     "output_type": "stream",
     "text": [
      "> 5\n"
     ]
    }
   ],
   "source": [
    "# let user enter the key to use\n",
    "while True:\n",
    "    MAXKEY = len(SYMBOLS)-1\n",
    "    print('Enter the want you to use 0 to {}.',format(MAXKEY))\n",
    "    responce = input('>').upper()\n",
    "    if not responce.isdecimal():\n",
    "        continue\n",
    "    if 0 <= int(responce)<len(SYMBOLS):\n",
    "        key = int(responce)\n",
    "        break\n",
    "          \n",
    "    \n",
    "    "
   ]
  },
  {
   "cell_type": "code",
   "execution_count": 59,
   "id": "6ef0f2d3-d37c-457a-b263-067aa501235d",
   "metadata": {},
   "outputs": [
    {
     "name": "stdout",
     "output_type": "stream",
     "text": [
      "Enter message you want to encrypt or decrypt\n"
     ]
    },
    {
     "name": "stdin",
     "output_type": "stream",
     "text": [
      "> N FR ANIYTW\n"
     ]
    }
   ],
   "source": [
    "# let user enter message to encrypt\n",
    "print('Enter message you want to encrypt or decrypt')\n",
    "message = input('>').upper()\n",
    "translated = ''"
   ]
  },
  {
   "cell_type": "code",
   "execution_count": 61,
   "id": "622bd97f-c8d1-4886-b9df-91f4d8fd27b7",
   "metadata": {},
   "outputs": [
    {
     "name": "stdout",
     "output_type": "stream",
     "text": [
      "I AM VICTOR\n"
     ]
    }
   ],
   "source": [
    "# encryption and decryption\n",
    "for symbols in message:\n",
    "    if symbols in SYMBOLS:\n",
    "        num = SYMBOLS.find(symbols)\n",
    "        if mode ==\"encrypt\":\n",
    "            num = num+key\n",
    "        elif mode ==\"decrypt\":\n",
    "            num = num-key\n",
    "        # if num is large than len symbols or 0 orless than 0\n",
    "        if num>=len(SYMBOLS):\n",
    "            num = num-len(SYMBOLS)\n",
    "        if num<0:\n",
    "            num = num+len(SYMBOLS)\n",
    "        translated = translated + SYMBOLS[num]\n",
    "    else:\n",
    "        translated = translated + symbols\n",
    "print(translated)\n",
    "            "
   ]
  },
  {
   "cell_type": "code",
   "execution_count": null,
   "id": "e3b5e294-f552-47f4-b1c7-0426f9efc58b",
   "metadata": {},
   "outputs": [],
   "source": []
  }
 ],
 "metadata": {
  "kernelspec": {
   "display_name": "anaconda-panel-2023.05-py310",
   "language": "python",
   "name": "conda-env-anaconda-panel-2023.05-py310-py"
  },
  "language_info": {
   "codemirror_mode": {
    "name": "ipython",
    "version": 3
   },
   "file_extension": ".py",
   "mimetype": "text/x-python",
   "name": "python",
   "nbconvert_exporter": "python",
   "pygments_lexer": "ipython3",
   "version": "3.11.4"
  }
 },
 "nbformat": 4,
 "nbformat_minor": 5
}
