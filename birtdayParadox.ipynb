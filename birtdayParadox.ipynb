{
 "cells": [
  {
   "cell_type": "markdown",
   "id": "f61b58cb-2e0c-4120-bcbf-079956dec30b",
   "metadata": {},
   "source": [
    "Birthday Paradox \n",
    "Check if people in a group share the same birthday."
   ]
  },
  {
   "cell_type": "code",
   "execution_count": 83,
   "id": "76998a09-43b8-4433-aef8-5f0b592f31d6",
   "metadata": {
    "tags": []
   },
   "outputs": [],
   "source": [
    "import datetime, random"
   ]
  },
  {
   "cell_type": "code",
   "execution_count": 85,
   "id": "b981e6e7-5dbe-4bc4-bb43-9ede738891c8",
   "metadata": {
    "tags": []
   },
   "outputs": [],
   "source": [
    "# getbirthdays\n",
    "def getBirthdays(numberOfBirthdays):\n",
    "    # return a list of random dates of birthdays\n",
    "    birthdays =[]\n",
    "    for i in range(numberOfBirthdays):\n",
    "        startOfYear = datetime.date(2001,1,1)\n",
    "        # get random day\n",
    "        randomDay = datetime.timedelta(random.randint(0,364))\n",
    "        birthday=startOfYear + randomDay\n",
    "        birthdays.append(birthday)\n",
    "    return birthdays\n",
    "        "
   ]
  },
  {
   "cell_type": "code",
   "execution_count": 87,
   "id": "32673b6e-b796-46e9-904a-8ae59ef42f32",
   "metadata": {
    "tags": []
   },
   "outputs": [],
   "source": [
    "def getMatch(birthdays):\n",
    "    # returns birthdays that occur more than one times\n",
    "    # code checks for duplicate birthdays\n",
    "    if len(birthdays)==len(set(birthdays)):\n",
    "        return None\n",
    "    for a,birthdayA in enumerate(birthdays):\n",
    "        for b,birthdayB in enumerate(birthdays[a+1 :]):\n",
    "            if birthdayA == birthdayB:\n",
    "                return birthdayA\n",
    "    "
   ]
  },
  {
   "cell_type": "code",
   "execution_count": 89,
   "id": "25fda28a-1d0d-4b80-8c91-8ccac12c3a1d",
   "metadata": {
    "tags": []
   },
   "outputs": [
    {
     "name": "stdout",
     "output_type": "stream",
     "text": [
      "'Birthday Paradox, by Al Sweigart al@inventwithpython.com\n",
      " \n",
      "  The birthday paradox shows us that in a group of N people, the odds\n",
      "  that two of them have matching birthdays is surprisingly large.\n",
      "  This program does a Monte Carlo simulation (that is, repeated random\n",
      "  simulations) to explore this concept.\n",
      "  \n",
      " (It's not actually a paradox, it's just a surprising result.)\n",
      "  \n"
     ]
    }
   ],
   "source": [
    "# display the intro\n",
    "print(''''Birthday Paradox, by Al Sweigart al@inventwithpython.com\n",
    " \n",
    "  The birthday paradox shows us that in a group of N people, the odds\n",
    "  that two of them have matching birthdays is surprisingly large.\n",
    "  This program does a Monte Carlo simulation (that is, repeated random\n",
    "  simulations) to explore this concept.\n",
    "  \n",
    " (It's not actually a paradox, it's just a surprising result.)\n",
    "  ''')\n",
    "# a tuples of months\n",
    "MONTHS= ('Jan', 'Feb', 'Mar', 'Apr', 'May', 'Jun','Jul', 'Aug', 'Sep', 'Oct', 'Nov', 'Dec')"
   ]
  },
  {
   "cell_type": "code",
   "execution_count": 91,
   "id": "eec7d3e3-b01a-4fd8-bb96-c534fe0b7bb6",
   "metadata": {
    "tags": []
   },
   "outputs": [
    {
     "name": "stdout",
     "output_type": "stream",
     "text": [
      "How many birthdays should I generate?(Max 100)\n"
     ]
    },
    {
     "name": "stdin",
     "output_type": "stream",
     "text": [
      "> 56\n"
     ]
    },
    {
     "name": "stdout",
     "output_type": "stream",
     "text": [
      "\n"
     ]
    }
   ],
   "source": [
    "while True:\n",
    "    # ask untill user enters the right number\n",
    "    print(\"How many birthdays should I generate?(Max 100)\")\n",
    "    response = input('>')\n",
    "    if response.isdecimal() and (0 < int(response) <= 100):\n",
    "        numBd= int(response)\n",
    "        break #user has entered the right information\n",
    "print()\n",
    "    "
   ]
  },
  {
   "cell_type": "code",
   "execution_count": 93,
   "id": "21e636f4-02ba-4dd0-ae71-186ce0d45686",
   "metadata": {
    "tags": []
   },
   "outputs": [
    {
     "name": "stdout",
     "output_type": "stream",
     "text": [
      "Here are  56  birthdays\n",
      "Oct 10,Dec 13,May 16,Dec 30,Mar 16,Oct 13,Oct 30,Apr 30,Dec 19,Dec 11,Apr 1,Nov 2,Jan 8,Dec 3,Sep 15,Jul 22,Jul 4,Aug 6,Apr 19,Feb 4,Dec 29,Oct 11,Jun 13,Apr 3,Sep 1,Nov 24,Jul 20,Sep 7,Jul 16,May 6,Jan 31,Jun 27,Oct 27,Feb 28,Nov 12,Jan 11,Jan 8,Aug 15,Aug 13,May 19,Nov 12,Oct 3,Jan 11,Mar 4,Oct 10,Mar 25,May 12,Aug 31,Sep 6,Aug 28,Aug 22,Jun 22,Oct 20,Sep 15,Nov 13,Mar 9\n",
      "\n"
     ]
    }
   ],
   "source": [
    "# generate and display birthdays\n",
    "print('Here are ',numBd,' birthdays')\n",
    "birthdays = getBirthdays(numBd)\n",
    "for i,birthday in enumerate(birthdays):\n",
    "    if i !=0:\n",
    "        print(',', end='')\n",
    "    monthName = MONTHS[birthday.month-1]\n",
    "    dateText ='{} {}'.format(monthName,birthday.day)\n",
    "    print(dateText,end=\"\")\n",
    "print()\n",
    "print()\n",
    "\n"
   ]
  },
  {
   "cell_type": "code",
   "execution_count": 95,
   "id": "88bbbee3-5f57-4bca-8603-7460f882430b",
   "metadata": {
    "tags": []
   },
   "outputs": [],
   "source": [
    "# determine if there are two birthdays that match\n",
    "match =getMatch(birthdays)"
   ]
  },
  {
   "cell_type": "code",
   "execution_count": 97,
   "id": "c7830c7c-31e3-45bb-ac35-114f4f46b476",
   "metadata": {
    "tags": []
   },
   "outputs": [
    {
     "name": "stdout",
     "output_type": "stream",
     "text": [
      "In this simulation multiple birthdays occurs on Oct 10\n",
      "\n"
     ]
    }
   ],
   "source": [
    "# display the results\n",
    "print('In this simulation ', end=\"\")\n",
    "if match is not None:\n",
    "    monthName =MONTHS[match.month-1]\n",
    "    dateText ='{} {}'.format(monthName,match.day)\n",
    "    print('multiple birthdays occurs on',dateText)\n",
    "else: \n",
    "    print('There is no matchng date')\n",
    "print()\n",
    "    \n",
    "    "
   ]
  },
  {
   "cell_type": "code",
   "execution_count": 101,
   "id": "c0273ab4-cdf4-4881-a2b4-b3004c391666",
   "metadata": {
    "tags": []
   },
   "outputs": [
    {
     "name": "stdout",
     "output_type": "stream",
     "text": [
      "Generating  56 random birthdays 100000 times\n"
     ]
    },
    {
     "name": "stdin",
     "output_type": "stream",
     "text": [
      "Press enter to begin \n"
     ]
    },
    {
     "name": "stdout",
     "output_type": "stream",
     "text": [
      "Let's run 100000 times simulation\n",
      "0 simulation run...\n",
      "100000 simulations run\n"
     ]
    }
   ],
   "source": [
    "# run through 100_000  simulation\n",
    "print('Generating ',numBd, 'random birthdays 100000 times')\n",
    "input(\"Press enter to begin\")\n",
    "print('Let\\'s run 100000 times simulation')\n",
    "simMatch=0 #how many simulations had matching birthdays on them\n",
    "for i in range(100_000):\n",
    "    if i % 100_000 ==0:\n",
    "        print(i,'simulation run...')\n",
    "    birthdays = getBirthdays(numBd)\n",
    "    if getMatch(birthdays) != None:\n",
    "        simMatch = simMatch+1\n",
    "print('100000 simulations run')\n",
    "\n",
    "        "
   ]
  },
  {
   "cell_type": "code",
   "execution_count": 103,
   "id": "1c3d5b6f-1c91-432b-8b14-083f4a39fa26",
   "metadata": {
    "tags": []
   },
   "outputs": [
    {
     "name": "stdout",
     "output_type": "stream",
     "text": [
      "Out of 100000 simulation of  56 people there was a\n",
      "matching birtdays f that group 98836 times.These means\n",
      "that 56 people have a 98.84 % chance of\n",
      "having a matching birthday in their group.\n",
      "That's probably more than you would think!\n"
     ]
    }
   ],
   "source": [
    "# display simulation resuts\n",
    "probability = round(simMatch/100000*100,2)\n",
    "print('Out of 100000 simulation of ',numBd,'people there was a')\n",
    "print('matching birtdays f that group',simMatch,'times.These means')\n",
    "print('that', numBd, 'people have a', probability, '% chance of')\n",
    "print('having a matching birthday in their group.')\n",
    "print('That\\'s probably more than you would think!')"
   ]
  },
  {
   "cell_type": "code",
   "execution_count": null,
   "id": "7091c60a-ed5a-4772-8362-13a4c8375f00",
   "metadata": {},
   "outputs": [],
   "source": []
  }
 ],
 "metadata": {
  "kernelspec": {
   "display_name": "anaconda-panel-2023.05-py310",
   "language": "python",
   "name": "conda-env-anaconda-panel-2023.05-py310-py"
  },
  "language_info": {
   "codemirror_mode": {
    "name": "ipython",
    "version": 3
   },
   "file_extension": ".py",
   "mimetype": "text/x-python",
   "name": "python",
   "nbconvert_exporter": "python",
   "pygments_lexer": "ipython3",
   "version": "3.11.4"
  }
 },
 "nbformat": 4,
 "nbformat_minor": 5
}
