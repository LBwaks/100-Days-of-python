{
 "cells": [
  {
   "cell_type": "code",
   "execution_count": 3,
   "id": "b531b28a-1a6a-4148-97c0-37a39230eb45",
   "metadata": {
    "tags": []
   },
   "outputs": [
    {
     "name": "stdout",
     "output_type": "stream",
     "text": [
      "/home/b423cd9e-288e-4a4b-bacf-9145144db322/regulaexpresion\n"
     ]
    }
   ],
   "source": [
    "from pathlib import Path\n",
    "import os\n",
    "print(Path.cwd())\n"
   ]
  },
  {
   "cell_type": "markdown",
   "id": "8d9ac54b-752f-4127-8a4a-71177596ed62",
   "metadata": {},
   "source": [
    "creating directory from path"
   ]
  },
  {
   "cell_type": "code",
   "execution_count": 9,
   "id": "dcb19166-2e5a-420b-b689-8859c1fc58d2",
   "metadata": {
    "tags": []
   },
   "outputs": [],
   "source": [
    "# 1 using makedirs which can create more than one at a time \n",
    "os.makedirs('/home/b423cd9e-288e-4a4b-bacf-9145144db322/regulaexpresion/t')\n",
    "# 2 using Path(),mkdir() which creates a single directory\n",
    "Path(r'/home/b423cd9e-288e-4a4b-bacf-9145144db322/regulaexpresion/t2').mkdir()"
   ]
  },
  {
   "cell_type": "markdown",
   "id": "9ecdd0c1-ff19-4699-bace-9ac8a7959dac",
   "metadata": {},
   "source": [
    "Absolute vs relative path"
   ]
  },
  {
   "cell_type": "code",
   "execution_count": 13,
   "id": "c8ef076c-73ee-4cec-9513-668619a1c520",
   "metadata": {
    "tags": []
   },
   "outputs": [
    {
     "data": {
      "text/plain": [
       "'/home/b423cd9e-288e-4a4b-bacf-9145144db322/regulaexpresion'"
      ]
     },
     "execution_count": 13,
     "metadata": {},
     "output_type": "execute_result"
    }
   ],
   "source": [
    "import os \n",
    "os.path.abspath('.')"
   ]
  },
  {
   "cell_type": "markdown",
   "id": "40882e76-d305-49ba-8b7f-c50457d20ae4",
   "metadata": {},
   "source": [
    "Calculate Parts of a path"
   ]
  },
  {
   "cell_type": "code",
   "execution_count": 23,
   "id": "92a35870-607d-4170-b719-182d0baabb5d",
   "metadata": {
    "tags": []
   },
   "outputs": [
    {
     "name": "stdout",
     "output_type": "stream",
     "text": [
      "t\n",
      "/home/b423cd9e-288e-4a4b-bacf-9145144db322/regulaexpresion\n",
      "('/home/b423cd9e-288e-4a4b-bacf-9145144db322/regulaexpresion', 't')\n"
     ]
    }
   ],
   "source": [
    "import os\n",
    "pathh='/home/b423cd9e-288e-4a4b-bacf-9145144db322/regulaexpresion/t'\n",
    "basename =os.path.basename(pathh)\n",
    "print(basename)\n",
    "dir_name = os.path.dirname(pathh)\n",
    "print(dir_name)\n",
    " # using split\n",
    "print(os.path.split(pathh))\n"
   ]
  },
  {
   "cell_type": "markdown",
   "id": "5c8f43ee-eaec-47c6-b75b-baba26eeadaf",
   "metadata": {},
   "source": [
    "Find file size"
   ]
  },
  {
   "cell_type": "code",
   "execution_count": 29,
   "id": "c27aa54f-131c-4283-bff8-3d296593914e",
   "metadata": {
    "tags": []
   },
   "outputs": [
    {
     "name": "stdout",
     "output_type": "stream",
     "text": [
      "4982\n"
     ]
    }
   ],
   "source": [
    "size = os.path.getsize('/home/b423cd9e-288e-4a4b-bacf-9145144db322/regulaexpresion/inputs.ipynb')\n",
    "print(size)"
   ]
  },
  {
   "cell_type": "markdown",
   "id": "78b83dc2-8e1a-40ad-a809-796273973ea2",
   "metadata": {},
   "source": [
    "Getting path content"
   ]
  },
  {
   "cell_type": "code",
   "execution_count": 33,
   "id": "006d641d-dfd7-4bca-94e2-21bc1c180a27",
   "metadata": {
    "tags": []
   },
   "outputs": [
    {
     "name": "stdout",
     "output_type": "stream",
     "text": [
      "['t', 'Untitled.ipynb', 'regular expresion.ipynb', '.ipynb_checkpoints', 't2', 'inputs.ipynb']\n"
     ]
    }
   ],
   "source": [
    "c = os.listdir('/home/b423cd9e-288e-4a4b-bacf-9145144db322/regulaexpresion/')\n",
    "print(c)\n"
   ]
  },
  {
   "cell_type": "markdown",
   "id": "441cc6e1-5018-4aca-a98b-c763b78a862d",
   "metadata": {},
   "source": [
    "Checking path validity\n",
    "us Path().exists() \n",
    "Path().is_file()\n",
    "Path().is_dir"
   ]
  },
  {
   "cell_type": "code",
   "execution_count": 45,
   "id": "34d821f1-e492-43ec-9131-07e350cc82fa",
   "metadata": {
    "tags": []
   },
   "outputs": [
    {
     "data": {
      "text/plain": [
       "False"
      ]
     },
     "execution_count": 45,
     "metadata": {},
     "output_type": "execute_result"
    }
   ],
   "source": [
    "file=Path(r'/home/b423cd9e-288e-4a4b-bacf-9145144db322/regulaexpresion/inputs.ipynb')\n",
    "path=Path(r'/home/b423cd9e-288e-4a4b-bacf-9145144db322/')\n",
    "non_path=Path(r'/home/b423cd9e-288e-4a4b-bacf-9145144db322/regulaexpresion3/')\n",
    "dirr=Path(r'/home/b423cd9e-288e-4a4b-bacf-9145144db322/regulaexpresion/')\n",
    "file.exists()\n",
    "file.is_dir()"
   ]
  },
  {
   "cell_type": "markdown",
   "id": "3ceed1a6-54a3-4410-ac47-4786be18c173",
   "metadata": {},
   "source": [
    "Opening Files with the open() Function"
   ]
  },
  {
   "cell_type": "code",
   "execution_count": 49,
   "id": "24d8c4de-b3bb-4260-903f-145027f7fa89",
   "metadata": {
    "tags": []
   },
   "outputs": [
    {
     "name": "stdout",
     "output_type": "stream",
     "text": [
      "/home/b423cd9e-288e-4a4b-bacf-9145144db322\n",
      "/home/b423cd9e-288e-4a4b-bacf-9145144db322/regulaexpresion\n"
     ]
    }
   ],
   "source": [
    "print(Path.home())\n",
    "print(Path.cwd())"
   ]
  },
  {
   "cell_type": "code",
   "execution_count": 71,
   "id": "8bb86aea-51c8-423d-a7b7-8f6419349bcc",
   "metadata": {
    "tags": []
   },
   "outputs": [
    {
     "name": "stdout",
     "output_type": "stream",
     "text": [
      "Hello there.\n",
      "Reading the Contents of Files\n",
      "\n",
      "Now that you have a File object, you can start reading from it. If you want to read the entire contents of a file as a string value, use the File object’s read() method. Let’s continue with the hello.txt File object you stored in helloFile. Enter the following into the interactive shell:\n",
      "\n",
      ">>> helloContent = helloFile.read()\n",
      ">>> helloContent\n",
      "'Hello, world!'\n",
      "\n",
      "If you think of the contents of a file as a single large string value, the read() method returns the string that is stored in the file.\n",
      "\n",
      "Alternatively, you can use the readlines() method to get a list of string values from the file, one string for each line of text. For example, create a file named sonnet29.txt in the same directory as hello.txt and write the following text in it:\n"
     ]
    }
   ],
   "source": [
    "# opening the file\n",
    "hllo=open(Path.cwd()/'hello.txt')\n",
    "# reading the file\n",
    "file_content = hllo.read()\n",
    "print(file_content)"
   ]
  },
  {
   "cell_type": "markdown",
   "id": "cff3fdbf-a2c0-4ac7-ba36-93071b350bed",
   "metadata": {},
   "source": [
    "Writing to Files"
   ]
  },
  {
   "cell_type": "code",
   "execution_count": 80,
   "id": "a98a65f7-6bdd-416b-a47e-905dff00a878",
   "metadata": {
    "tags": []
   },
   "outputs": [
    {
     "name": "stdout",
     "output_type": "stream",
     "text": [
      "8\n",
      "New men\n",
      "Apppended me\n"
     ]
    }
   ],
   "source": [
    "# 1 this overwrites existing content open(path,'w')\n",
    "hllo = open(Path.cwd()/'hello.txt','w')\n",
    "content = hllo.write('New men\\n')\n",
    "print(content)\n",
    "hllo.close()\n",
    "# 2 open file to add to eisting\n",
    "hllo= open(Path.cwd()/'hello.txt','a')\n",
    "content= hllo.write('Apppended me')\n",
    "hllo.close()\n",
    "hllo= open(Path.cwd()/'hello.txt')\n",
    "content=hllo.read()\n",
    "print(content)\n"
   ]
  },
  {
   "cell_type": "code",
   "execution_count": null,
   "id": "504cb8c7-fa4f-4fc0-83e5-7c68b6ba6953",
   "metadata": {},
   "outputs": [],
   "source": []
  }
 ],
 "metadata": {
  "kernelspec": {
   "display_name": "anaconda-panel-2023.05-py310",
   "language": "python",
   "name": "conda-env-anaconda-panel-2023.05-py310-py"
  },
  "language_info": {
   "codemirror_mode": {
    "name": "ipython",
    "version": 3
   },
   "file_extension": ".py",
   "mimetype": "text/x-python",
   "name": "python",
   "nbconvert_exporter": "python",
   "pygments_lexer": "ipython3",
   "version": "3.11.4"
  }
 },
 "nbformat": 4,
 "nbformat_minor": 5
}
